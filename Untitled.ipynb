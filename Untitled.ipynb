{
 "cells": [
  {
   "cell_type": "code",
   "execution_count": null,
   "metadata": {},
   "outputs": [],
   "source": [
    "from tkinter import *\n",
    "master = Tk()\n",
    "master.title(\"Student Data Registration Page\")\n",
    "Label(master, text='Regno.').grid(row=0) \n",
    "Label(master, text='Name:').grid(row=1) \n",
    "Label(master, text='Dept').grid(row=2)\n",
    "Label(master, text='Gender').grid(row=3,column=0)\n",
    "Label(master, text='Age').grid(row=4)\n",
    "e1 = Entry(master) \n",
    "e2 = Entry(master)\n",
    "e3 = Entry(master)\n",
    "w=Spinbox(master,from_=0,to=100).grid(row=4,column=1)\n",
    "\n",
    "e1.grid(row=0, column=1) \n",
    "e2.grid(row=1, column=1)\n",
    "e3.grid(row=2, column=1)\n",
    "\n",
    "var1 = IntVar() \n",
    "Radiobutton(master, text='male', variable=var1,value=1).grid(row=3,column=1)  \n",
    "Radiobutton(master, text='female', variable=var1,value=2).grid(row=3,column=2)\n",
    "button1=Button(master,text=\"Insert\").grid(row=5,column=0)\n",
    "button2=Button(master,text=\"Update\").grid(row=5,column=1)\n",
    "button2=Button(master,text=\"Delete\").grid(row=6,column=0)\n",
    "button2=Button(master,text=\"Select\").grid(row=6,column=1)\n",
    "mainloop() "
   ]
  },
  {
   "cell_type": "code",
   "execution_count": 3,
   "metadata": {},
   "outputs": [],
   "source": [
    "from tkinter import *\n",
    "master = Tk()\n",
    "master.title(\"Customer Information management system\")\n",
    "Label(master, text='Custid').grid(row=0) \n",
    "Label(master, text='Customer name:').grid(row=1) \n",
    "Label(master, text='branch').grid(row=2)\n",
    "Label(master, text='Account type').grid(row=3,column=0)\n",
    "Label(master, text='Amount').grid(row=4)\n",
    "e1 = Entry(master) \n",
    "e2 = Entry(master)\n",
    "e3 = Entry(master)\n",
    "\n",
    "\n",
    "e1.grid(row=0, column=1) \n",
    "e2.grid(row=1, column=1)\n",
    "e3.grid(row=2, column=1)\n",
    "slider=Scale(master,from_=0,to=10000,length=200,orient=HORIZONTAL).grid(row=4,column=1)\n",
    "\n",
    "var1 = IntVar() \n",
    "Checkbutton(master, text='Saving', variable=var1).grid(row=3,column=1) \n",
    "var2 = IntVar() \n",
    "Checkbutton(master, text='Non saving', variable=var2).grid(row=3,column=2)\n",
    "button1=Button(master,text=\"Insert\",fg=\"black\").grid(row=5,column=0)\n",
    "button2=Button(master,text=\"Update\",fg=\"black\").grid(row=5,column=1)\n",
    "button3=Button(master,text=\"Delete\",fg=\"black\").grid(row=6,column=0)\n",
    "button4=Button(master,text=\"Select\",fg=\"black\").grid(row=6,column=1)\n",
    "mainloop()"
   ]
  },
  {
   "cell_type": "code",
   "execution_count": null,
   "metadata": {},
   "outputs": [],
   "source": []
  }
 ],
 "metadata": {
  "kernelspec": {
   "display_name": "Python 3",
   "language": "python",
   "name": "python3"
  },
  "language_info": {
   "codemirror_mode": {
    "name": "ipython",
    "version": 3
   },
   "file_extension": ".py",
   "mimetype": "text/x-python",
   "name": "python",
   "nbconvert_exporter": "python",
   "pygments_lexer": "ipython3",
   "version": "3.7.4"
  }
 },
 "nbformat": 4,
 "nbformat_minor": 2
}
