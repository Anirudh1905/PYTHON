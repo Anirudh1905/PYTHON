{
 "cells": [
  {
   "cell_type": "code",
   "execution_count": 2,
   "metadata": {},
   "outputs": [],
   "source": [
    "import pandas as pd\n",
    "import numpy as np\n",
    "import matplotlib.pyplot as plt"
   ]
  },
  {
   "cell_type": "code",
   "execution_count": 3,
   "metadata": {},
   "outputs": [],
   "source": [
    "df=pd.read_csv('C:/Users/aniru/OneDrive/Documents/gapminder-FiveYearData.csv')"
   ]
  },
  {
   "cell_type": "code",
   "execution_count": 4,
   "metadata": {},
   "outputs": [
    {
     "data": {
      "text/html": [
       "<div>\n",
       "<style scoped>\n",
       "    .dataframe tbody tr th:only-of-type {\n",
       "        vertical-align: middle;\n",
       "    }\n",
       "\n",
       "    .dataframe tbody tr th {\n",
       "        vertical-align: top;\n",
       "    }\n",
       "\n",
       "    .dataframe thead th {\n",
       "        text-align: right;\n",
       "    }\n",
       "</style>\n",
       "<table border=\"1\" class=\"dataframe\">\n",
       "  <thead>\n",
       "    <tr style=\"text-align: right;\">\n",
       "      <th></th>\n",
       "      <th>country</th>\n",
       "      <th>year</th>\n",
       "      <th>pop</th>\n",
       "      <th>continent</th>\n",
       "      <th>lifeExp</th>\n",
       "      <th>gdpPercap</th>\n",
       "    </tr>\n",
       "  </thead>\n",
       "  <tbody>\n",
       "    <tr>\n",
       "      <td>0</td>\n",
       "      <td>Afghanistan</td>\n",
       "      <td>1952</td>\n",
       "      <td>8425333.0</td>\n",
       "      <td>Asia</td>\n",
       "      <td>28.801</td>\n",
       "      <td>779.445314</td>\n",
       "    </tr>\n",
       "    <tr>\n",
       "      <td>1</td>\n",
       "      <td>Afghanistan</td>\n",
       "      <td>1957</td>\n",
       "      <td>9240934.0</td>\n",
       "      <td>Asia</td>\n",
       "      <td>30.332</td>\n",
       "      <td>820.853030</td>\n",
       "    </tr>\n",
       "    <tr>\n",
       "      <td>2</td>\n",
       "      <td>Afghanistan</td>\n",
       "      <td>1962</td>\n",
       "      <td>10267083.0</td>\n",
       "      <td>Asia</td>\n",
       "      <td>31.997</td>\n",
       "      <td>853.100710</td>\n",
       "    </tr>\n",
       "    <tr>\n",
       "      <td>3</td>\n",
       "      <td>Afghanistan</td>\n",
       "      <td>1967</td>\n",
       "      <td>11537966.0</td>\n",
       "      <td>Asia</td>\n",
       "      <td>34.020</td>\n",
       "      <td>836.197138</td>\n",
       "    </tr>\n",
       "    <tr>\n",
       "      <td>4</td>\n",
       "      <td>Afghanistan</td>\n",
       "      <td>1972</td>\n",
       "      <td>13079460.0</td>\n",
       "      <td>Asia</td>\n",
       "      <td>36.088</td>\n",
       "      <td>739.981106</td>\n",
       "    </tr>\n",
       "    <tr>\n",
       "      <td>...</td>\n",
       "      <td>...</td>\n",
       "      <td>...</td>\n",
       "      <td>...</td>\n",
       "      <td>...</td>\n",
       "      <td>...</td>\n",
       "      <td>...</td>\n",
       "    </tr>\n",
       "    <tr>\n",
       "      <td>1699</td>\n",
       "      <td>Zimbabwe</td>\n",
       "      <td>1987</td>\n",
       "      <td>9216418.0</td>\n",
       "      <td>Africa</td>\n",
       "      <td>62.351</td>\n",
       "      <td>706.157306</td>\n",
       "    </tr>\n",
       "    <tr>\n",
       "      <td>1700</td>\n",
       "      <td>Zimbabwe</td>\n",
       "      <td>1992</td>\n",
       "      <td>10704340.0</td>\n",
       "      <td>Africa</td>\n",
       "      <td>60.377</td>\n",
       "      <td>693.420786</td>\n",
       "    </tr>\n",
       "    <tr>\n",
       "      <td>1701</td>\n",
       "      <td>Zimbabwe</td>\n",
       "      <td>1997</td>\n",
       "      <td>11404948.0</td>\n",
       "      <td>Africa</td>\n",
       "      <td>46.809</td>\n",
       "      <td>792.449960</td>\n",
       "    </tr>\n",
       "    <tr>\n",
       "      <td>1702</td>\n",
       "      <td>Zimbabwe</td>\n",
       "      <td>2002</td>\n",
       "      <td>11926563.0</td>\n",
       "      <td>Africa</td>\n",
       "      <td>39.989</td>\n",
       "      <td>672.038623</td>\n",
       "    </tr>\n",
       "    <tr>\n",
       "      <td>1703</td>\n",
       "      <td>Zimbabwe</td>\n",
       "      <td>2007</td>\n",
       "      <td>12311143.0</td>\n",
       "      <td>Africa</td>\n",
       "      <td>43.487</td>\n",
       "      <td>469.709298</td>\n",
       "    </tr>\n",
       "  </tbody>\n",
       "</table>\n",
       "<p>1704 rows × 6 columns</p>\n",
       "</div>"
      ],
      "text/plain": [
       "          country  year         pop continent  lifeExp   gdpPercap\n",
       "0     Afghanistan  1952   8425333.0      Asia   28.801  779.445314\n",
       "1     Afghanistan  1957   9240934.0      Asia   30.332  820.853030\n",
       "2     Afghanistan  1962  10267083.0      Asia   31.997  853.100710\n",
       "3     Afghanistan  1967  11537966.0      Asia   34.020  836.197138\n",
       "4     Afghanistan  1972  13079460.0      Asia   36.088  739.981106\n",
       "...           ...   ...         ...       ...      ...         ...\n",
       "1699     Zimbabwe  1987   9216418.0    Africa   62.351  706.157306\n",
       "1700     Zimbabwe  1992  10704340.0    Africa   60.377  693.420786\n",
       "1701     Zimbabwe  1997  11404948.0    Africa   46.809  792.449960\n",
       "1702     Zimbabwe  2002  11926563.0    Africa   39.989  672.038623\n",
       "1703     Zimbabwe  2007  12311143.0    Africa   43.487  469.709298\n",
       "\n",
       "[1704 rows x 6 columns]"
      ]
     },
     "execution_count": 4,
     "metadata": {},
     "output_type": "execute_result"
    }
   ],
   "source": [
    "df"
   ]
  },
  {
   "cell_type": "code",
   "execution_count": 7,
   "metadata": {},
   "outputs": [
    {
     "name": "stdout",
     "output_type": "stream",
     "text": [
      "       country  year         pop continent  lifeExp   gdpPercap\n",
      "0  Afghanistan  1952   8425333.0      Asia   28.801  779.445314\n",
      "1  Afghanistan  1957   9240934.0      Asia   30.332  820.853030\n",
      "2  Afghanistan  1962  10267083.0      Asia   31.997  853.100710\n",
      "3  Afghanistan  1967  11537966.0      Asia   34.020  836.197138\n",
      "4  Afghanistan  1972  13079460.0      Asia   36.088  739.981106\n"
     ]
    }
   ],
   "source": [
    "print(df.head())"
   ]
  },
  {
   "cell_type": "code",
   "execution_count": 13,
   "metadata": {},
   "outputs": [
    {
     "name": "stdout",
     "output_type": "stream",
     "text": [
      "(1704, 6)\n"
     ]
    }
   ],
   "source": [
    "print(df.shape)"
   ]
  },
  {
   "cell_type": "code",
   "execution_count": 14,
   "metadata": {},
   "outputs": [
    {
     "name": "stdout",
     "output_type": "stream",
     "text": [
      "Index(['country', 'year', 'pop', 'continent', 'lifeExp', 'gdpPercap'], dtype='object')\n"
     ]
    }
   ],
   "source": [
    "print(df.columns)"
   ]
  },
  {
   "cell_type": "code",
   "execution_count": 15,
   "metadata": {},
   "outputs": [
    {
     "name": "stdout",
     "output_type": "stream",
     "text": [
      "country       object\n",
      "year           int64\n",
      "pop          float64\n",
      "continent     object\n",
      "lifeExp      float64\n",
      "gdpPercap    float64\n",
      "dtype: object\n"
     ]
    }
   ],
   "source": [
    "print(df.dtypes)"
   ]
  },
  {
   "cell_type": "code",
   "execution_count": 16,
   "metadata": {},
   "outputs": [
    {
     "name": "stdout",
     "output_type": "stream",
     "text": [
      "<bound method DataFrame.info of           country  year         pop continent  lifeExp   gdpPercap\n",
      "0     Afghanistan  1952   8425333.0      Asia   28.801  779.445314\n",
      "1     Afghanistan  1957   9240934.0      Asia   30.332  820.853030\n",
      "2     Afghanistan  1962  10267083.0      Asia   31.997  853.100710\n",
      "3     Afghanistan  1967  11537966.0      Asia   34.020  836.197138\n",
      "4     Afghanistan  1972  13079460.0      Asia   36.088  739.981106\n",
      "...           ...   ...         ...       ...      ...         ...\n",
      "1699     Zimbabwe  1987   9216418.0    Africa   62.351  706.157306\n",
      "1700     Zimbabwe  1992  10704340.0    Africa   60.377  693.420786\n",
      "1701     Zimbabwe  1997  11404948.0    Africa   46.809  792.449960\n",
      "1702     Zimbabwe  2002  11926563.0    Africa   39.989  672.038623\n",
      "1703     Zimbabwe  2007  12311143.0    Africa   43.487  469.709298\n",
      "\n",
      "[1704 rows x 6 columns]>\n"
     ]
    }
   ],
   "source": [
    "print(df.info)"
   ]
  },
  {
   "cell_type": "code",
   "execution_count": 17,
   "metadata": {},
   "outputs": [
    {
     "name": "stdout",
     "output_type": "stream",
     "text": [
      "<class 'pandas.core.frame.DataFrame'>\n",
      "RangeIndex: 1704 entries, 0 to 1703\n",
      "Data columns (total 6 columns):\n",
      "country      1704 non-null object\n",
      "year         1704 non-null int64\n",
      "pop          1704 non-null float64\n",
      "continent    1704 non-null object\n",
      "lifeExp      1704 non-null float64\n",
      "gdpPercap    1704 non-null float64\n",
      "dtypes: float64(3), int64(1), object(2)\n",
      "memory usage: 80.0+ KB\n",
      "None\n"
     ]
    }
   ],
   "source": [
    "print(df.info())"
   ]
  },
  {
   "cell_type": "code",
   "execution_count": 18,
   "metadata": {},
   "outputs": [],
   "source": [
    "country_df=df['country']"
   ]
  },
  {
   "cell_type": "code",
   "execution_count": 19,
   "metadata": {},
   "outputs": [
    {
     "name": "stdout",
     "output_type": "stream",
     "text": [
      "0    Afghanistan\n",
      "1    Afghanistan\n",
      "2    Afghanistan\n",
      "3    Afghanistan\n",
      "4    Afghanistan\n",
      "Name: country, dtype: object\n"
     ]
    }
   ],
   "source": [
    "print(country_df.head())"
   ]
  },
  {
   "cell_type": "code",
   "execution_count": 20,
   "metadata": {},
   "outputs": [
    {
     "name": "stdout",
     "output_type": "stream",
     "text": [
      "1699    Zimbabwe\n",
      "1700    Zimbabwe\n",
      "1701    Zimbabwe\n",
      "1702    Zimbabwe\n",
      "1703    Zimbabwe\n",
      "Name: country, dtype: object\n"
     ]
    }
   ],
   "source": [
    "print(country_df.tail())"
   ]
  },
  {
   "cell_type": "code",
   "execution_count": 21,
   "metadata": {},
   "outputs": [
    {
     "name": "stdout",
     "output_type": "stream",
     "text": [
      "       country continent  year\n",
      "0  Afghanistan      Asia  1952\n",
      "1  Afghanistan      Asia  1957\n",
      "2  Afghanistan      Asia  1962\n",
      "3  Afghanistan      Asia  1967\n",
      "4  Afghanistan      Asia  1972\n"
     ]
    }
   ],
   "source": [
    "subset=df[['country','continent','year']]\n",
    "print(subset.head())"
   ]
  },
  {
   "cell_type": "code",
   "execution_count": 22,
   "metadata": {},
   "outputs": [
    {
     "name": "stdout",
     "output_type": "stream",
     "text": [
      "       country continent  year\n",
      "1699  Zimbabwe    Africa  1987\n",
      "1700  Zimbabwe    Africa  1992\n",
      "1701  Zimbabwe    Africa  1997\n",
      "1702  Zimbabwe    Africa  2002\n",
      "1703  Zimbabwe    Africa  2007\n"
     ]
    }
   ],
   "source": [
    "print(subset.tail())"
   ]
  },
  {
   "cell_type": "code",
   "execution_count": 6,
   "metadata": {},
   "outputs": [
    {
     "name": "stdout",
     "output_type": "stream",
     "text": [
      "country      Afghanistan\n",
      "year                1962\n",
      "pop          1.02671e+07\n",
      "continent           Asia\n",
      "lifeExp           31.997\n",
      "gdpPercap        853.101\n",
      "Name: 2, dtype: object\n"
     ]
    }
   ],
   "source": [
    "print(df.loc[2])"
   ]
  },
  {
   "cell_type": "code",
   "execution_count": 24,
   "metadata": {},
   "outputs": [
    {
     "name": "stdout",
     "output_type": "stream",
     "text": [
      "country       Bangladesh\n",
      "year                1967\n",
      "pop          6.28219e+07\n",
      "continent           Asia\n",
      "lifeExp           43.453\n",
      "gdpPercap        721.186\n",
      "Name: 99, dtype: object\n"
     ]
    }
   ],
   "source": [
    "print(df.loc[99])"
   ]
  },
  {
   "cell_type": "code",
   "execution_count": 25,
   "metadata": {},
   "outputs": [
    {
     "name": "stdout",
     "output_type": "stream",
     "text": [
      "Empty DataFrame\n",
      "Columns: [country, year, pop, continent, lifeExp, gdpPercap]\n",
      "Index: []\n"
     ]
    }
   ],
   "source": [
    "print(df.tail(n==1))"
   ]
  },
  {
   "cell_type": "code",
   "execution_count": 26,
   "metadata": {},
   "outputs": [
    {
     "name": "stdout",
     "output_type": "stream",
     "text": [
      "       country  year         pop continent  lifeExp   gdpPercap\n",
      "1703  Zimbabwe  2007  12311143.0    Africa   43.487  469.709298\n"
     ]
    }
   ],
   "source": [
    "print(df.tail(n=1))"
   ]
  },
  {
   "cell_type": "code",
   "execution_count": 27,
   "metadata": {},
   "outputs": [
    {
     "name": "stdout",
     "output_type": "stream",
     "text": [
      "        country  year         pop continent  lifeExp   gdpPercap\n",
      "0   Afghanistan  1952   8425333.0      Asia   28.801  779.445314\n",
      "9   Afghanistan  1997  22227415.0      Asia   41.763  635.341351\n",
      "99   Bangladesh  1967  62821884.0      Asia   43.453  721.186086\n"
     ]
    }
   ],
   "source": [
    "print(df.loc[[0,9,99]])"
   ]
  },
  {
   "cell_type": "code",
   "execution_count": 28,
   "metadata": {},
   "outputs": [
    {
     "name": "stdout",
     "output_type": "stream",
     "text": [
      "country         Zimbabwe\n",
      "year                2007\n",
      "pop          1.23111e+07\n",
      "continent         Africa\n",
      "lifeExp           43.487\n",
      "gdpPercap        469.709\n",
      "Name: 1703, dtype: object\n"
     ]
    }
   ],
   "source": [
    "print(df.iloc[-1])"
   ]
  },
  {
   "cell_type": "code",
   "execution_count": 29,
   "metadata": {},
   "outputs": [
    {
     "data": {
      "text/html": [
       "<div>\n",
       "<style scoped>\n",
       "    .dataframe tbody tr th:only-of-type {\n",
       "        vertical-align: middle;\n",
       "    }\n",
       "\n",
       "    .dataframe tbody tr th {\n",
       "        vertical-align: top;\n",
       "    }\n",
       "\n",
       "    .dataframe thead th {\n",
       "        text-align: right;\n",
       "    }\n",
       "</style>\n",
       "<table border=\"1\" class=\"dataframe\">\n",
       "  <thead>\n",
       "    <tr style=\"text-align: right;\">\n",
       "      <th></th>\n",
       "      <th>year</th>\n",
       "      <th>pop</th>\n",
       "    </tr>\n",
       "  </thead>\n",
       "  <tbody>\n",
       "    <tr>\n",
       "      <td>0</td>\n",
       "      <td>1952</td>\n",
       "      <td>8425333.0</td>\n",
       "    </tr>\n",
       "    <tr>\n",
       "      <td>1</td>\n",
       "      <td>1957</td>\n",
       "      <td>9240934.0</td>\n",
       "    </tr>\n",
       "    <tr>\n",
       "      <td>2</td>\n",
       "      <td>1962</td>\n",
       "      <td>10267083.0</td>\n",
       "    </tr>\n",
       "    <tr>\n",
       "      <td>3</td>\n",
       "      <td>1967</td>\n",
       "      <td>11537966.0</td>\n",
       "    </tr>\n",
       "    <tr>\n",
       "      <td>4</td>\n",
       "      <td>1972</td>\n",
       "      <td>13079460.0</td>\n",
       "    </tr>\n",
       "    <tr>\n",
       "      <td>5</td>\n",
       "      <td>1977</td>\n",
       "      <td>14880372.0</td>\n",
       "    </tr>\n",
       "    <tr>\n",
       "      <td>6</td>\n",
       "      <td>1982</td>\n",
       "      <td>12881816.0</td>\n",
       "    </tr>\n",
       "    <tr>\n",
       "      <td>7</td>\n",
       "      <td>1987</td>\n",
       "      <td>13867957.0</td>\n",
       "    </tr>\n",
       "    <tr>\n",
       "      <td>8</td>\n",
       "      <td>1992</td>\n",
       "      <td>16317921.0</td>\n",
       "    </tr>\n",
       "    <tr>\n",
       "      <td>9</td>\n",
       "      <td>1997</td>\n",
       "      <td>22227415.0</td>\n",
       "    </tr>\n",
       "  </tbody>\n",
       "</table>\n",
       "</div>"
      ],
      "text/plain": [
       "   year         pop\n",
       "0  1952   8425333.0\n",
       "1  1957   9240934.0\n",
       "2  1962  10267083.0\n",
       "3  1967  11537966.0\n",
       "4  1972  13079460.0\n",
       "5  1977  14880372.0\n",
       "6  1982  12881816.0\n",
       "7  1987  13867957.0\n",
       "8  1992  16317921.0\n",
       "9  1997  22227415.0"
      ]
     },
     "execution_count": 29,
     "metadata": {},
     "output_type": "execute_result"
    }
   ],
   "source": [
    "subset=df.loc[:,['year','pop']]\n",
    "subset.head(n=10)"
   ]
  },
  {
   "cell_type": "code",
   "execution_count": 30,
   "metadata": {},
   "outputs": [
    {
     "ename": "SyntaxError",
     "evalue": "invalid syntax (<ipython-input-30-e0d996aa0f40>, line 1)",
     "output_type": "error",
     "traceback": [
      "\u001b[1;36m  File \u001b[1;32m\"<ipython-input-30-e0d996aa0f40>\"\u001b[1;36m, line \u001b[1;32m1\u001b[0m\n\u001b[1;33m    sub1=df.iloc(:,[2,4,-1])\u001b[0m\n\u001b[1;37m                 ^\u001b[0m\n\u001b[1;31mSyntaxError\u001b[0m\u001b[1;31m:\u001b[0m invalid syntax\n"
     ]
    }
   ],
   "source": [
    "sub1=df.iloc(:,[2,4,-1])\n",
    "sub1.head()"
   ]
  },
  {
   "cell_type": "code",
   "execution_count": 31,
   "metadata": {},
   "outputs": [
    {
     "ename": "SyntaxError",
     "evalue": "invalid syntax (<ipython-input-31-cc8fe1cbef79>, line 1)",
     "output_type": "error",
     "traceback": [
      "\u001b[1;36m  File \u001b[1;32m\"<ipython-input-31-cc8fe1cbef79>\"\u001b[1;36m, line \u001b[1;32m1\u001b[0m\n\u001b[1;33m    subset=df.iloc(:,[2,4,-1])\u001b[0m\n\u001b[1;37m                   ^\u001b[0m\n\u001b[1;31mSyntaxError\u001b[0m\u001b[1;31m:\u001b[0m invalid syntax\n"
     ]
    }
   ],
   "source": [
    "subset=df.iloc(:,[2,4,-1])\n",
    "subset.head()"
   ]
  },
  {
   "cell_type": "code",
   "execution_count": 32,
   "metadata": {},
   "outputs": [
    {
     "data": {
      "text/html": [
       "<div>\n",
       "<style scoped>\n",
       "    .dataframe tbody tr th:only-of-type {\n",
       "        vertical-align: middle;\n",
       "    }\n",
       "\n",
       "    .dataframe tbody tr th {\n",
       "        vertical-align: top;\n",
       "    }\n",
       "\n",
       "    .dataframe thead th {\n",
       "        text-align: right;\n",
       "    }\n",
       "</style>\n",
       "<table border=\"1\" class=\"dataframe\">\n",
       "  <thead>\n",
       "    <tr style=\"text-align: right;\">\n",
       "      <th></th>\n",
       "      <th>pop</th>\n",
       "      <th>lifeExp</th>\n",
       "      <th>gdpPercap</th>\n",
       "    </tr>\n",
       "  </thead>\n",
       "  <tbody>\n",
       "    <tr>\n",
       "      <td>0</td>\n",
       "      <td>8425333.0</td>\n",
       "      <td>28.801</td>\n",
       "      <td>779.445314</td>\n",
       "    </tr>\n",
       "    <tr>\n",
       "      <td>1</td>\n",
       "      <td>9240934.0</td>\n",
       "      <td>30.332</td>\n",
       "      <td>820.853030</td>\n",
       "    </tr>\n",
       "    <tr>\n",
       "      <td>2</td>\n",
       "      <td>10267083.0</td>\n",
       "      <td>31.997</td>\n",
       "      <td>853.100710</td>\n",
       "    </tr>\n",
       "    <tr>\n",
       "      <td>3</td>\n",
       "      <td>11537966.0</td>\n",
       "      <td>34.020</td>\n",
       "      <td>836.197138</td>\n",
       "    </tr>\n",
       "    <tr>\n",
       "      <td>4</td>\n",
       "      <td>13079460.0</td>\n",
       "      <td>36.088</td>\n",
       "      <td>739.981106</td>\n",
       "    </tr>\n",
       "  </tbody>\n",
       "</table>\n",
       "</div>"
      ],
      "text/plain": [
       "          pop  lifeExp   gdpPercap\n",
       "0   8425333.0   28.801  779.445314\n",
       "1   9240934.0   30.332  820.853030\n",
       "2  10267083.0   31.997  853.100710\n",
       "3  11537966.0   34.020  836.197138\n",
       "4  13079460.0   36.088  739.981106"
      ]
     },
     "execution_count": 32,
     "metadata": {},
     "output_type": "execute_result"
    }
   ],
   "source": [
    "sub1=df.iloc[:,[2,4,-1]]\n",
    "sub1.head()"
   ]
  },
  {
   "cell_type": "code",
   "execution_count": 35,
   "metadata": {},
   "outputs": [
    {
     "data": {
      "text/html": [
       "<div>\n",
       "<style scoped>\n",
       "    .dataframe tbody tr th:only-of-type {\n",
       "        vertical-align: middle;\n",
       "    }\n",
       "\n",
       "    .dataframe tbody tr th {\n",
       "        vertical-align: top;\n",
       "    }\n",
       "\n",
       "    .dataframe thead th {\n",
       "        text-align: right;\n",
       "    }\n",
       "</style>\n",
       "<table border=\"1\" class=\"dataframe\">\n",
       "  <thead>\n",
       "    <tr style=\"text-align: right;\">\n",
       "      <th></th>\n",
       "      <th>country</th>\n",
       "      <th>year</th>\n",
       "      <th>pop</th>\n",
       "      <th>continent</th>\n",
       "      <th>lifeExp</th>\n",
       "    </tr>\n",
       "  </thead>\n",
       "  <tbody>\n",
       "    <tr>\n",
       "      <td>0</td>\n",
       "      <td>Afghanistan</td>\n",
       "      <td>1952</td>\n",
       "      <td>8425333.0</td>\n",
       "      <td>Asia</td>\n",
       "      <td>28.801</td>\n",
       "    </tr>\n",
       "    <tr>\n",
       "      <td>1</td>\n",
       "      <td>Afghanistan</td>\n",
       "      <td>1957</td>\n",
       "      <td>9240934.0</td>\n",
       "      <td>Asia</td>\n",
       "      <td>30.332</td>\n",
       "    </tr>\n",
       "    <tr>\n",
       "      <td>2</td>\n",
       "      <td>Afghanistan</td>\n",
       "      <td>1962</td>\n",
       "      <td>10267083.0</td>\n",
       "      <td>Asia</td>\n",
       "      <td>31.997</td>\n",
       "    </tr>\n",
       "    <tr>\n",
       "      <td>3</td>\n",
       "      <td>Afghanistan</td>\n",
       "      <td>1967</td>\n",
       "      <td>11537966.0</td>\n",
       "      <td>Asia</td>\n",
       "      <td>34.020</td>\n",
       "    </tr>\n",
       "    <tr>\n",
       "      <td>4</td>\n",
       "      <td>Afghanistan</td>\n",
       "      <td>1972</td>\n",
       "      <td>13079460.0</td>\n",
       "      <td>Asia</td>\n",
       "      <td>36.088</td>\n",
       "    </tr>\n",
       "  </tbody>\n",
       "</table>\n",
       "</div>"
      ],
      "text/plain": [
       "       country  year         pop continent  lifeExp\n",
       "0  Afghanistan  1952   8425333.0      Asia   28.801\n",
       "1  Afghanistan  1957   9240934.0      Asia   30.332\n",
       "2  Afghanistan  1962  10267083.0      Asia   31.997\n",
       "3  Afghanistan  1967  11537966.0      Asia   34.020\n",
       "4  Afghanistan  1972  13079460.0      Asia   36.088"
      ]
     },
     "execution_count": 35,
     "metadata": {},
     "output_type": "execute_result"
    }
   ],
   "source": [
    "small_range=list(range(5))\n",
    "s=df.iloc[:,small_range]\n",
    "s.head()"
   ]
  },
  {
   "cell_type": "code",
   "execution_count": null,
   "metadata": {},
   "outputs": [],
   "source": []
  }
 ],
 "metadata": {
  "kernelspec": {
   "display_name": "Python 3",
   "language": "python",
   "name": "python3"
  },
  "language_info": {
   "codemirror_mode": {
    "name": "ipython",
    "version": 3
   },
   "file_extension": ".py",
   "mimetype": "text/x-python",
   "name": "python",
   "nbconvert_exporter": "python",
   "pygments_lexer": "ipython3",
   "version": "3.7.4"
  }
 },
 "nbformat": 4,
 "nbformat_minor": 2
}
