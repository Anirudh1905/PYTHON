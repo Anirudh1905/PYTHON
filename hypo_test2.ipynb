{
 "cells": [
  {
   "cell_type": "code",
   "execution_count": 5,
   "metadata": {},
   "outputs": [],
   "source": [
    "import pandas as pd\n",
    "import numpy as np\n",
    "import math\n",
    "import scipy\n",
    "from scipy import stats"
   ]
  },
  {
   "cell_type": "code",
   "execution_count": 21,
   "metadata": {},
   "outputs": [
    {
     "name": "stdout",
     "output_type": "stream",
     "text": [
      "(1.3442056254198995, 0.17888190308175567)\n"
     ]
    }
   ],
   "source": [
    "def two_samp_prop(p1,p2,n1,n2):\n",
    "    p_pool=((p1*n1)+(p2*n2))/(n1+n2)\n",
    "    x=(p_pool*(1-p_pool)*((1/n1)+(1/n2)))\n",
    "    s=math.sqrt(x)\n",
    "    z=(p1-p2)/s\n",
    "    if z<0:\n",
    "        p=stats.norm.cdf(z)\n",
    "    else:\n",
    "        p=1-stats.norm.cdf(z)\n",
    "    return z,p*2\n",
    "print(two_samp_prop(0.27,0.19,100,100))"
   ]
  },
  {
   "cell_type": "code",
   "execution_count": 24,
   "metadata": {},
   "outputs": [
    {
     "name": "stdout",
     "output_type": "stream",
     "text": [
      "2.8450165269958436\n"
     ]
    },
    {
     "data": {
      "text/plain": [
       "0.3931252536255495"
      ]
     },
     "execution_count": 24,
     "metadata": {},
     "output_type": "execute_result"
    }
   ],
   "source": [
    "print(scipy.stats.f.ppf(q=0.95,dfn=15,dfd=10))\n",
    "scipy.stats.f.ppf(q=0.05,dfn=15,dfd=10)"
   ]
  },
  {
   "cell_type": "code",
   "execution_count": 25,
   "metadata": {},
   "outputs": [
    {
     "name": "stdout",
     "output_type": "stream",
     "text": [
      "155.900083325938\n"
     ]
    }
   ],
   "source": [
    "def sample_size(alfa,beta,mu1,mu2,sigma):\n",
    "    z1=-1*stats.norm.ppf(alfa)\n",
    "    z2=-1*stats.norm.ppf(beta)\n",
    "    n=(((z1+z2)**2)*(sigma**2))/((mu1-mu2)**2)\n",
    "    print(n)\n",
    "sample_size(0.05,0.1,12,12.75,3.2)"
   ]
  },
  {
   "cell_type": "code",
   "execution_count": null,
   "metadata": {},
   "outputs": [],
   "source": []
  }
 ],
 "metadata": {
  "kernelspec": {
   "display_name": "Python 3",
   "language": "python",
   "name": "python3"
  },
  "language_info": {
   "codemirror_mode": {
    "name": "ipython",
    "version": 3
   },
   "file_extension": ".py",
   "mimetype": "text/x-python",
   "name": "python",
   "nbconvert_exporter": "python",
   "pygments_lexer": "ipython3",
   "version": "3.7.4"
  }
 },
 "nbformat": 4,
 "nbformat_minor": 2
}
